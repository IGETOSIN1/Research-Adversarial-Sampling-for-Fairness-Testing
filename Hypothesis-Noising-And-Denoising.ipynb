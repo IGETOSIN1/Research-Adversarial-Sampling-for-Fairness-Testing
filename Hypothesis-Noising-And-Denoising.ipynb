{
 "cells": [
  {
   "cell_type": "code",
   "execution_count": 48,
   "id": "57d80483",
   "metadata": {},
   "outputs": [],
   "source": [
    "from skimage import io\n",
    "import numpy as np\n",
    "import cv2\n",
    "import numpy as np\n",
    "import matplotlib.pyplot as plt\n",
    "from PIL import Image\n",
    "from PIL import ImageFilter\n",
    "from IPython import display\n",
    "from skimage import io\n",
    "%matplotlib inline"
   ]
  },
  {
   "cell_type": "code",
   "execution_count": 49,
   "id": "e16fa9ff",
   "metadata": {},
   "outputs": [],
   "source": [
    "def noise(path):\n",
    "    img = cv2.imread(path,0)\n",
    "    im = np.zeros(img.shape, np.uint8)\n",
    "    mean=40\n",
    "    sigma=50\n",
    "    cv2.randn(im,mean,sigma) # create the random distribution\n",
    "    noise_image = cv2.add(img, im) # add the noise to the original image    \n",
    "    return noise_image"
   ]
  },
  {
   "cell_type": "code",
   "execution_count": 54,
   "id": "13085110",
   "metadata": {},
   "outputs": [
    {
     "data": {
      "text/plain": [
       "<matplotlib.image.AxesImage at 0x122e94104f0>"
      ]
     },
     "execution_count": 54,
     "metadata": {},
     "output_type": "execute_result"
    },
    {
     "data": {
      "image/png": "[encoded data removed]",
      "text/plain": [
       "<Figure size 432x288 with 1 Axes>"
      ]
     },
     "metadata": {
      "needs_background": "light"
     },
     "output_type": "display_data"
    }
   ],
   "source": [
    "img=noise('C:\\\\NOISE\\\\DENOISE\\\\do.jpg')\n",
    "plt.imshow(img, cmap='gray')"
   ]
  },
  {
   "cell_type": "code",
   "execution_count": 56,
   "id": "3efac81d",
   "metadata": {},
   "outputs": [],
   "source": [
    "io.imsave(\"C:\\\\NOISE\\\\DENOISE\\\\dog1.jpg\", img)"
   ]
  },
  {
   "cell_type": "code",
   "execution_count": null,
   "id": "9366e11b",
   "metadata": {},
   "outputs": [],
   "source": []
  },
  {
   "cell_type": "code",
   "execution_count": null,
   "id": "3f2ee5c9",
   "metadata": {},
   "outputs": [],
   "source": []
  },
  {
   "cell_type": "code",
   "execution_count": 57,
   "id": "2a3036c0",
   "metadata": {},
   "outputs": [],
   "source": [
    "def image_denoise(path):\n",
    "    home_png = Image.open(path)\n",
    "    home_png.filter(ImageFilter.BLUR)\n",
    "    blurred_home = home_png.filter(ImageFilter.BoxBlur(radius=2))\n",
    "    gauss_blurr_home = home_png.filter(ImageFilter.GaussianBlur(radius=1))\n",
    "    contour_home = home_png.filter(ImageFilter.CONTOUR)\n",
    "    detail_home = home_png.filter(ImageFilter.DETAIL)\n",
    "    edge_enhanced_home = home_png.filter(ImageFilter.EDGE_ENHANCE_MORE)\n",
    "    sharpen_home = home_png.filter(ImageFilter.SHARPEN)\n",
    "    smooth_more_home = home_png.filter(ImageFilter.SMOOTH_MORE)\n",
    "    blure=home_png.filter(ImageFilter.BLUR)\n",
    "    \n",
    "    return blurred_home"
   ]
  },
  {
   "cell_type": "code",
   "execution_count": 58,
   "id": "9a43eb9c",
   "metadata": {},
   "outputs": [],
   "source": [
    "img_noise_result=image_denoise(\"C:\\\\NOISE\\\\DENOISE\\\\dog1.jpg\")\n",
    "img_noise_result.save(\"C:\\\\NOISE\\\\DENOISE\\\\dog11.jpg\")"
   ]
  },
  {
   "cell_type": "code",
   "execution_count": null,
   "id": "2949f407",
   "metadata": {},
   "outputs": [],
   "source": []
  },
  {
   "cell_type": "code",
   "execution_count": null,
   "id": "0581267e",
   "metadata": {},
   "outputs": [],
   "source": []
  },
  {
   "cell_type": "code",
   "execution_count": null,
   "id": "f97ec36a",
   "metadata": {},
   "outputs": [],
   "source": []
  },
  {
   "cell_type": "code",
   "execution_count": null,
   "id": "ca9b93e5",
   "metadata": {},
   "outputs": [],
   "source": []
  }
 ],
 "metadata": {
  "kernelspec": {
   "display_name": "Python 3 (ipykernel)",
   "language": "python",
   "name": "python3"
  },
  "language_info": {
   "codemirror_mode": {
    "name": "ipython",
    "version": 3
   },
   "file_extension": ".py",
   "mimetype": "text/x-python",
   "name": "python",
   "nbconvert_exporter": "python",
   "pygments_lexer": "ipython3",
   "version": "3.8.12"
  }
 },
 "nbformat": 4,
 "nbformat_minor": 5
}
