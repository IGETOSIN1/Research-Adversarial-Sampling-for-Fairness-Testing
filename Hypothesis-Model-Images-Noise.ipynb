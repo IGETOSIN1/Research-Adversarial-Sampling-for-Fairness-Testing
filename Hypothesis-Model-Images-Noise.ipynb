{
 "cells": [
  {
   "cell_type": "code",
   "execution_count": 1,
   "id": "29e8cf2b",
   "metadata": {},
   "outputs": [],
   "source": [
    "from skimage import io\n",
    "import numpy as np\n",
    "import cv2\n",
    "import numpy as np\n",
    "import matplotlib.pyplot as plt\n",
    "from PIL import Image\n",
    "from PIL import ImageFilter\n",
    "from IPython import display\n",
    "from skimage import io\n",
    "%matplotlib inline"
   ]
  },
  {
   "cell_type": "code",
   "execution_count": 18,
   "id": "100aa651",
   "metadata": {},
   "outputs": [],
   "source": [
    "def noise_add(path,numb):\n",
    "    img = cv2.imread(path,0)\n",
    "    im = np.zeros(img.shape, np.uint8)\n",
    "    mean=40\n",
    "    sigma=50\n",
    "    cv2.randn(im,mean,sigma) # create the random distribution\n",
    "    noise_image = cv2.add(img, im) # add the noise to the original image \n",
    "    #io.imsave(\"C:\\\\NOISE\\\\dogs\\\\dog1.jpg\", noise_image)\n",
    "    io.imsave(\"C:\\\\NOISE\\\\dogsa\\\\\"+str(numb)+\".jpg\", noise_image)\n",
    "    return noise_image"
   ]
  },
  {
   "cell_type": "code",
   "execution_count": 19,
   "id": "f3147887",
   "metadata": {},
   "outputs": [],
   "source": [
    "for i in range(0,1000):\n",
    "    if i==0:\n",
    "        j=\"0000\"\n",
    "    elif i<10:\n",
    "        j=\"000\"+str(i)\n",
    "    elif i<100:\n",
    "        j=\"00\"+str(i)\n",
    "    else:\n",
    "        j=\"0\"+str(i)\n",
    "    url='C:\\\\NOISE\\\\dog\\\\'+str(j)+'.jpg'\n",
    "    noise_add(url,i)\n"
   ]
  },
  {
   "cell_type": "code",
   "execution_count": null,
   "id": "000fd7a6",
   "metadata": {},
   "outputs": [],
   "source": []
  },
  {
   "cell_type": "code",
   "execution_count": null,
   "id": "45afb1e4",
   "metadata": {},
   "outputs": [],
   "source": []
  },
  {
   "cell_type": "code",
   "execution_count": 31,
   "id": "32cc47d5",
   "metadata": {},
   "outputs": [],
   "source": [
    "def noise_filter(path):\n",
    "    home_png = Image.open(path)\n",
    "    home_png.filter(ImageFilter.BLUR)\n",
    "    blurred_home = home_png.filter(ImageFilter.BoxBlur(radius=2))\n",
    "    gauss_blurr_home = home_png.filter(ImageFilter.GaussianBlur(radius=1))\n",
    "    contour_home = home_png.filter(ImageFilter.CONTOUR)\n",
    "    detail_home = home_png.filter(ImageFilter.DETAIL)\n",
    "    edge_enhanced_home = home_png.filter(ImageFilter.EDGE_ENHANCE_MORE)\n",
    "    sharpen_home = home_png.filter(ImageFilter.SHARPEN)\n",
    "    smooth_more_home = home_png.filter(ImageFilter.SMOOTH_MORE)\n",
    "    blure=home_png.filter(ImageFilter.BLUR)\n",
    "    \n",
    "    return blurred_home"
   ]
  },
  {
   "cell_type": "code",
   "execution_count": 32,
   "id": "6ca8a2bb",
   "metadata": {},
   "outputs": [],
   "source": [
    "for i in range(0,1000):\n",
    "    img_noise_result=noise_filter('C:\\\\NOISE\\\\dogsa\\\\'+str(i)+'.jpg')\n",
    "    img_noise_result.save('C:\\\\NOISE\\\\dogsa_clean\\\\'+str(i)+'.jpg')\n"
   ]
  },
  {
   "cell_type": "code",
   "execution_count": null,
   "id": "484f2700",
   "metadata": {},
   "outputs": [],
   "source": []
  },
  {
   "cell_type": "code",
   "execution_count": 28,
   "id": "f93c0f10",
   "metadata": {},
   "outputs": [],
   "source": []
  },
  {
   "cell_type": "code",
   "execution_count": null,
   "id": "3800aa99",
   "metadata": {},
   "outputs": [],
   "source": []
  },
  {
   "cell_type": "code",
   "execution_count": null,
   "id": "1f5b369d",
   "metadata": {},
   "outputs": [],
   "source": []
  },
  {
   "cell_type": "code",
   "execution_count": null,
   "id": "3026a526",
   "metadata": {},
   "outputs": [],
   "source": [
    "def noise_add(path,numb):\n",
    "    img = cv2.imread(path,0)\n",
    "    im = np.zeros(img.shape, np.uint8)\n",
    "    mean=40\n",
    "    sigma=50\n",
    "    cv2.randn(im,mean,sigma) # create the random distribution\n",
    "    noise_image = cv2.add(img, im) # add the noise to the original image \n",
    "    io.imsave(\"dogsa\\\\\"+str(numb)+\".jpg\", noise_image)\n",
    "    return noise_image"
   ]
  }
 ],
 "metadata": {
  "kernelspec": {
   "display_name": "Python 3 (ipykernel)",
   "language": "python",
   "name": "python3"
  },
  "language_info": {
   "codemirror_mode": {
    "name": "ipython",
    "version": 3
   },
   "file_extension": ".py",
   "mimetype": "text/x-python",
   "name": "python",
   "nbconvert_exporter": "python",
   "pygments_lexer": "ipython3",
   "version": "3.8.12"
  }
 },
 "nbformat": 4,
 "nbformat_minor": 5
}
